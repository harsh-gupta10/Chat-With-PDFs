{
 "cells": [
  {
   "cell_type": "code",
   "execution_count": 6,
   "metadata": {},
   "outputs": [],
   "source": [
    "import os\n",
    "from langchain_community.llms import Ollama\n",
    "from langchain_community.embeddings import OllamaEmbeddings\n",
    "from langchain.prompts import PromptTemplate\n",
    "from langchain_community.document_loaders import PyPDFLoader\n",
    "from langchain_community.document_loaders import PyPDFDirectoryLoader\n",
    "from langchain_community.vectorstores import FAISS\n",
    "\n",
    "MODEL = \"mistral\"\n",
    "model = Ollama(model=MODEL)\n",
    "embeddings = OllamaEmbeddings(model=MODEL)\n"
   ]
  },
  {
   "cell_type": "code",
   "execution_count": 7,
   "metadata": {},
   "outputs": [],
   "source": [
    "\n",
    "from langchain.text_splitter import RecursiveCharacterTextSplitter\n",
    "\n",
    "# loader = PyPDFLoader(\"acsbr-016.pdf\")\n",
    "loader = PyPDFDirectoryLoader(\"./data/\")\n",
    "\n",
    "docs_before_split = loader.load_and_split()\n",
    "text_splitter = RecursiveCharacterTextSplitter(\n",
    "    chunk_size = 700,\n",
    "    chunk_overlap  = 50,\n",
    ")\n",
    "docs_after_split = text_splitter.split_documents(docs_before_split)\n",
    "\n",
    "# pages\n"
   ]
  },
  {
   "cell_type": "code",
   "execution_count": 8,
   "metadata": {},
   "outputs": [
    {
     "name": "stdout",
     "output_type": "stream",
     "text": [
      "Before split, there were 653 documents loaded, with average characters equal to 1998.\n",
      "After split, there were 2291 documents (chunks), with average characters equal to 575 (average chunk length).\n"
     ]
    }
   ],
   "source": [
    "avg_doc_length = lambda docs: sum([len(doc.page_content) for doc in docs])//len(docs)\n",
    "avg_char_before_split = avg_doc_length(docs_before_split)\n",
    "avg_char_after_split = avg_doc_length(docs_after_split)\n",
    "\n",
    "print(f'Before split, there were {len(docs_before_split)} documents loaded, with average characters equal to {avg_char_before_split}.')\n",
    "print(f'After split, there were {len(docs_after_split)} documents (chunks), with average characters equal to {avg_char_after_split} (average chunk length).')"
   ]
  },
  {
   "cell_type": "code",
   "execution_count": 9,
   "metadata": {},
   "outputs": [],
   "source": [
    "from langchain_community.embeddings import HuggingFaceBgeEmbeddings\n",
    "huggingface_embeddings = HuggingFaceBgeEmbeddings(\n",
    "    model_name=\"BAAI/bge-small-en-v1.5\",  # alternatively use \"sentence-transformers/all-MiniLM-l6-v2\" for a light and faster experience.\n",
    "    model_kwargs={'device':'cpu'}, \n",
    "    encode_kwargs={'normalize_embeddings': True}\n",
    ")\n",
    "vectorstore = FAISS.from_documents(docs_after_split, huggingface_embeddings)\n"
   ]
  },
  {
   "cell_type": "code",
   "execution_count": 10,
   "metadata": {},
   "outputs": [],
   "source": [
    "\n",
    "template = \"\"\"\n",
    "Answer the question based on the context below. If you can't \n",
    "answer the question, reply \"I don't know\".\n",
    "\n",
    "Context: {context}\n",
    "\n",
    "Question: {question}\n",
    "\"\"\"\n",
    "\n",
    "prompt = PromptTemplate(input_variables=[\"context\", \"question\"], template=template)\n",
    "\n"
   ]
  },
  {
   "cell_type": "code",
   "execution_count": 11,
   "metadata": {},
   "outputs": [],
   "source": [
    "query = \"\"\"Explain linked list in cpp\"\"\" "
   ]
  },
  {
   "cell_type": "code",
   "execution_count": 13,
   "metadata": {},
   "outputs": [
    {
     "name": "stdout",
     "output_type": "stream",
     "text": [
      "There are 4 documents retrieved which are relevant to the query. Display the first one:\n",
      "\n",
      "(rather than a primitive array) as the underlying array structure.\n",
      "3.34 A linked list contains a cycle if, starting from some node p, following a sufﬁcient\n",
      "number of next links brings us back to node p.pdoes not have to be the ﬁrst node\n"
     ]
    },
    {
     "data": {
      "text/plain": [
       "[Document(page_content='(rather than a primitive array) as the underlying array structure.\\n3.34 A linked list contains a cycle if, starting from some node p, following a sufﬁcient\\nnumber of next links brings us back to node p.pdoes not have to be the ﬁrst node', metadata={'source': 'data/DataStructures.pdf', 'page': 137}),\n",
       " Document(page_content='The linked list consists of a series of nodes, which are not necessarily adjacent in\\nmemory . Each node contains the element and a link to a node containing its successor. We\\ncall this the next link. The last cell’s next link points to nullptr .\\nTo execute printList() orfind(x) , we merely start at the ﬁrst node in the list and\\nthen traverse the list by following the next links. This operation is clearly linear-time, as\\nin the array implementation; although, the constant is likely to be larger than if an arrayimplementation were used. The\\nfindKth operation is no longer quite as efﬁcient as an\\narray implementation; findKth(i) takes O(i) time and works by traversing down the list in', metadata={'source': 'data/DataStructures.pdf', 'page': 97}),\n",
       " Document(page_content='the fundamental mechanism used in many data structures. For instance, to store a list of\\nitems, we could use a contiguous array , but insertion into the middle of the contiguous\\narray requires relocation of many items. Rather than store the collection in an array , it\\nis common to store each item in a separate, noncontiguous piece of memory , which is\\nallocated as the program runs. Along with each object is a link to the next object. This\\nlink is a pointer variable, because it stores a memory location of another object. This is theclassic linked list that is discussed in more detail in Chapter 3.\\nTo illustrate the operations that apply to pointers, we rewrite Figure 1.9 to dynamically', metadata={'source': 'data/DataStructures.pdf', 'page': 39}),\n",
       " Document(page_content='The simplest possible data structure to support searching is the linked list. Figure 10.57\\nshows a simple linked list. The time to perform a search is proportional to the number of\\nnodes that have to be examined, which is at most N.\\nFigure 10.58 shows a linked list in which every other node has an additional link to\\nthe node two ahead of it in the list. Because of this, at most ⌈N/2⌉+1 nodes are examined\\nin the worst case.\\nWe can extend this idea and obtain Figure 10.59. Here, every fourth node has a link\\nto the node four ahead. Only ⌈N/4⌉+2 nodes are examined.\\nThe limiting case of this argument is shown in Figure 10.60. Every 2\\nith node has a link', metadata={'source': 'data/DataStructures.pdf', 'page': 518})]"
      ]
     },
     "execution_count": 13,
     "metadata": {},
     "output_type": "execute_result"
    }
   ],
   "source": [
    " \n",
    "         # Sample question, change to other questions you are interested in.\n",
    "relevant_documents = vectorstore.similarity_search(query)\n",
    "print(f'There are {len(relevant_documents)} documents retrieved which are relevant to the query. Display the first one:\\n')\n",
    "print(relevant_documents[0].page_content)\n",
    "NoOfRelaventDoc=5\n",
    "retriever = vectorstore.as_retriever(search_type=\"similarity\", search_kwargs={\"k\": NoOfRelaventDoc})\n",
    "# relevant_documents"
   ]
  },
  {
   "cell_type": "code",
   "execution_count": 14,
   "metadata": {},
   "outputs": [],
   "source": [
    "context = \"\"\n",
    "for doc in relevant_documents[:NoOfRelaventDoc]:\n",
    "    context += doc.page_content + \"\\n\"  # Add newline for better readability\n",
    "formatted_prompt = prompt.format(context=context, question=query)\n",
    "# response = model.run(\n",
    "#     inputs=prompt.apply(context=context, question=query),\n",
    "#     temperature=0.7,  # Adjust temperature for desired balance between informativeness and creativity\n",
    "# )\n",
    "\n",
    "# print(response)\n"
   ]
  },
  {
   "cell_type": "code",
   "execution_count": 15,
   "metadata": {},
   "outputs": [
    {
     "data": {
      "text/plain": [
       "'\\nAnswer the question based on the context below. If you can\\'t \\nanswer the question, reply \"I don\\'t know\".\\n\\nContext: (rather than a primitive array) as the underlying array structure.\\n3.34 A linked list contains a cycle if, starting from some node p, following a sufﬁcient\\nnumber of next links brings us back to node p.pdoes not have to be the ﬁrst node\\nThe linked list consists of a series of nodes, which are not necessarily adjacent in\\nmemory . Each node contains the element and a link to a node containing its successor. We\\ncall this the next link. The last cell’s next link points to nullptr .\\nTo execute printList() orfind(x) , we merely start at the ﬁrst node in the list and\\nthen traverse the list by following the next links. This operation is clearly linear-time, as\\nin the array implementation; although, the constant is likely to be larger than if an arrayimplementation were used. The\\nfindKth operation is no longer quite as efﬁcient as an\\narray implementation; findKth(i) takes O(i) time and works by traversing down the list in\\nthe fundamental mechanism used in many data structures. For instance, to store a list of\\nitems, we could use a contiguous array , but insertion into the middle of the contiguous\\narray requires relocation of many items. Rather than store the collection in an array , it\\nis common to store each item in a separate, noncontiguous piece of memory , which is\\nallocated as the program runs. Along with each object is a link to the next object. This\\nlink is a pointer variable, because it stores a memory location of another object. This is theclassic linked list that is discussed in more detail in Chapter 3.\\nTo illustrate the operations that apply to pointers, we rewrite Figure 1.9 to dynamically\\nThe simplest possible data structure to support searching is the linked list. Figure 10.57\\nshows a simple linked list. The time to perform a search is proportional to the number of\\nnodes that have to be examined, which is at most N.\\nFigure 10.58 shows a linked list in which every other node has an additional link to\\nthe node two ahead of it in the list. Because of this, at most ⌈N/2⌉+1 nodes are examined\\nin the worst case.\\nWe can extend this idea and obtain Figure 10.59. Here, every fourth node has a link\\nto the node four ahead. Only ⌈N/4⌉+2 nodes are examined.\\nThe limiting case of this argument is shown in Figure 10.60. Every 2\\nith node has a link\\n\\n\\nQuestion: Explain linked list in cpp\\n'"
      ]
     },
     "execution_count": 15,
     "metadata": {},
     "output_type": "execute_result"
    }
   ],
   "source": [
    "# formatted_prompt"
   ]
  },
  {
   "cell_type": "code",
   "execution_count": 16,
   "metadata": {},
   "outputs": [
    {
     "name": "stdout",
     "output_type": "stream",
     "text": [
      " A linked list in C++ is a linear data structure, composed of nodes that contain an element and a reference (pointer) to the next node in the sequence. The first node is called the head or the beginning, and the last node's next pointer points to `nullptr`. Unlike arrays, where elements are adjacent in memory, linked lists allow for greater flexibility as they can be dynamically allocated during runtime, enabling efficient insertion into the middle of the list without having to relocate many items.\n",
      "\n",
      "In C++, you typically define a struct or class to represent each node in the linked list, with pointers pointing to the data element and the next node. Here's an example:\n",
      "\n",
      "```cpp\n",
      "struct Node {\n",
      "    int data;\n",
      "    Node* next;\n",
      "};\n",
      "```\n",
      "\n",
      "The `next` pointer can be initialized as `nullptr` or to point to another node in the list during the creation of each new node. You can traverse the linked list by starting from the first (or head) node and following the next pointers. The time complexity for search operations is linear, O(N), since you have to examine at most N nodes during a search.\n",
      "\n",
      "To create a cycle in the linked list, you can set the `next` pointer of a node to another node that has already been allocated. If you follow this next link from any given node and end up returning to the starting point, then the linked list contains a cycle. This can be useful for solving certain problems, such as detecting cycles in the list or finding its length.\n",
      "\n",
      "The linked list is an efficient data structure when dealing with dynamic situations where the size of the collection is uncertain or frequently changing. It's particularly beneficial when dealing with large amounts of data or insertions and deletions at arbitrary positions within the sequence.\n"
     ]
    }
   ],
   "source": [
    "response = model.invoke(formatted_prompt)\n",
    "print(response)"
   ]
  },
  {
   "cell_type": "markdown",
   "metadata": {},
   "source": [
    "A linked list in C++ is a linear data structure, composed of nodes that contain an element and a reference (pointer) to the next node in the sequence. The first node is called the head or the beginning, and the last node's next pointer points to `nullptr`. Unlike arrays, where elements are adjacent in memory, linked lists allow for greater flexibility as they can be dynamically allocated during runtime, enabling efficient insertion into the middle of the list without having to relocate many items.\n",
    "\n",
    "In C++, you typically define a struct or class to represent each node in the linked list, with pointers pointing to the data element and the next node. Here's an example:\n",
    "\n",
    "```cpp\n",
    "struct Node {\n",
    "    int data;\n",
    "    Node* next;\n",
    "};\n",
    "```\n",
    "\n",
    "The `next` pointer can be initialized as `nullptr` or to point to another node in the list during the creation of each new node. You can traverse the linked list by starting from the first (or head) node and following the next pointers. The time complexity for search operations is linear, O(N), since you have to examine at most N nodes during a search.\n",
    "\n",
    "To create a cycle in the linked list, you can set the `next` pointer of a node to another node that has already been allocated. If you follow this next link from any given node and end up returning to the starting point, then the linked list contains a cycle. This can be useful for solving certain problems, such as detecting cycles in the list or finding its length.\n",
    "\n",
    "The linked list is an efficient data structure when dealing with dynamic situations where the size of the collection is uncertain or frequently changing. It's particularly beneficial when dealing with large amounts of data or insertions and deletions at arbitrary positions within the sequence.\n",
    "```cpp\n",
    "struct Node {\n",
    "    int data;\n",
    "    Node* next;\n",
    "};\n",
    "```\n",
    "xqsxsq The `next` pointer can be initialized as `nullptr` or to point to another node in the list during the creation of each new node. You can traverse the linked list by starting from the first (or head) node and following the next pointers. The time complexity for search operations is linear, O(N), since you have to examine at most N nodes during a search.\n"
   ]
  },
  {
   "cell_type": "code",
   "execution_count": 17,
   "metadata": {},
   "outputs": [
    {
     "name": "stdout",
     "output_type": "stream",
     "text": [
      "There are 4 documents retrieved which are relevant to the query. Display the first one:\n",
      "\n",
      "into its postﬁx form. First, the symbol\n",
      "ais read, so it is passed through to the output.\n",
      " I don't know. The provided context does not pertain to the Indian political system. It discusses concepts related to computer programming, algorithms, and data structures.\n"
     ]
    }
   ],
   "source": [
    "query = \"\"\"write about indian political system\"\"\" \n",
    " \n",
    "         # Sample question, change to other questions you are interested in.\n",
    "relevant_documents = vectorstore.similarity_search(query)\n",
    "# print(f'There are {len(relevant_documents)} documents retrieved which are relevant to the query. Display the first one:\\n')\n",
    "# print(relevant_documents[0].page_content)\n",
    "NoOfRelaventDoc=5\n",
    "# retriever = vectorstore.as_retriever(search_type=\"similarity\", search_kwargs={\"k\": NoOfRelaventDoc})\n",
    "context = \"\"\n",
    "for doc in relevant_documents[:NoOfRelaventDoc]:\n",
    "    context += doc.page_content + \"\\n\"  # Add newline for better readability\n",
    "formatted_prompt = prompt.format(context=context, question=query)\n",
    "response = model.invoke(formatted_prompt)\n",
    "print(response)"
   ]
  },
  {
   "cell_type": "code",
   "execution_count": 18,
   "metadata": {},
   "outputs": [
    {
     "name": "stdout",
     "output_type": "stream",
     "text": [
      " I'm happy to help you get started on writing a postfix expression evaluator and infix to postfix converter, as per your exercise 3.23a. Here's a simple implementation in C++.\n",
      "\n",
      "```cpp\n",
      "#include <iostream>\n",
      "#include <stack>\n",
      "#include <string>\n",
      "#include <vector>\n",
      "\n",
      "class MemoryCell {\n",
      "public:\n",
      "    Object get() const { return storedValue; }\n",
      "    void set(const Object & x) { storedValue = x; }\n",
      "private:\n",
      "    Object storedValue;\n",
      "};\n",
      "\n",
      "void infixToPostfix(const std::string& expression, std::vector<std::string>& postfix) {\n",
      "    // A stack to store operators and parentheses\n",
      "    std::stack<std::string> s;\n",
      "\n",
      "    int i = 0;\n",
      "    int len = expression.length();\n",
      "    while (i < len) {\n",
      "        char c = expression[i];\n",
      "        if (c == '(') {\n",
      "            // Left parenthesis, push onto stack\n",
      "            s.push(c);\n",
      "        } else if (c == ')') {\n",
      "            // Right parenthesis, pop and apply operator until left parenthesis\n",
      "            while (s.top() != '(') {\n",
      "                postfix.push_back(s.top());\n",
      "                s.pop();\n",
      "            }\n",
      "            // Pop the left parenthesis\n",
      "            s.pop();\n",
      "        } else if (c == '+' || c == '-' || c == '*' || c == '/' || c == '%') {\n",
      "            // Operator, check the top of the stack and push accordingly\n",
      "            while (!s.empty() && (precedence(c) <= precedence(s.top()))) {\n",
      "                postfix.push_back(s.top());\n",
      "                s.pop();\n",
      "            }\n",
      "            s.push(c);\n",
      "        } else if (isdigit(c)) {\n",
      "            // Number, add to the result string\n",
      "            std::string num = \"\";\n",
      "            num += c;\n",
      "            while (i + 1 < len && isdigit(expression[i + 1])) {\n",
      "                num += expression[++i];\n",
      "            }\n",
      "            postfix.push_back(num);\n",
      "        } else {\n",
      "            std::cout << \"Invalid character found: \" << c << std::endl;\n",
      "        }\n",
      "        i++;\n",
      "    }\n",
      "\n",
      "    // Empty the stack into the postfix vector\n",
      "    while (!s.empty()) {\n",
      "        postfix.push_back(s.top());\n",
      "        s.pop();\n",
      "    }\n",
      "}\n",
      "\n",
      "int precedence(char op) {\n",
      "    switch (op) {\n",
      "        case '+':\n",
      "        case '-':\n",
      "            return 1;\n",
      "        case '*':\n",
      "        case '/':\n",
      "        case '%':\n",
      "            return 2;\n",
      "        default:\n",
      "            return -1; // Invalid operator\n",
      "    }\n",
      "}\n",
      "```\n",
      "\n",
      "This code defines a MemoryCell class as you provided and implements infixToPostfix function. The precedence function is used to check the priority of operators in the given expression. You can then use this postfix expression for evaluation using a stack. Keep in mind that this is just a starting point, and there are many ways to improve the code by handling error cases better, adding more features, or optimizing performance.\n",
      "\n",
      "To compile and run this code, save it as main.cpp and run the following command:\n",
      "\n",
      "```sh\n",
      "g++ -std=c++11 main.cpp -o main && ./main\n",
      "```\n"
     ]
    }
   ],
   "source": [
    "query = \"\"\"Ok write a full fledge code implement it\"\"\" \n",
    "relevant_documents = vectorstore.similarity_search(query)\n",
    "NoOfRelaventDoc=5\n",
    "context = \"\"\n",
    "for doc in relevant_documents[:NoOfRelaventDoc]:\n",
    "    context += doc.page_content + \"\\n\"  # Add newline for better readability\n",
    "formatted_prompt = prompt.format(context=context, question=query)\n",
    "response = model.invoke(formatted_prompt)\n",
    "print(response)"
   ]
  },
  {
   "cell_type": "code",
   "execution_count": null,
   "metadata": {},
   "outputs": [],
   "source": []
  }
 ],
 "metadata": {
  "kernelspec": {
   "display_name": "Python 3",
   "language": "python",
   "name": "python3"
  },
  "language_info": {
   "codemirror_mode": {
    "name": "ipython",
    "version": 3
   },
   "file_extension": ".py",
   "mimetype": "text/x-python",
   "name": "python",
   "nbconvert_exporter": "python",
   "pygments_lexer": "ipython3",
   "version": "3.10.12"
  }
 },
 "nbformat": 4,
 "nbformat_minor": 2
}
